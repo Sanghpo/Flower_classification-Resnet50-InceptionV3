{
  "nbformat": 4,
  "nbformat_minor": 0,
  "metadata": {
    "colab": {
      "name": "flower_cls.ipynb",
      "version": "0.3.2",
      "provenance": [],
      "collapsed_sections": []
    },
    "kernelspec": {
      "name": "python3",
      "display_name": "Python 3"
    },
    "accelerator": "GPU"
  },
  "cells": [
    {
      "metadata": {
        "id": "l-o70sa3okni",
        "colab_type": "code",
        "colab": {}
      },
      "cell_type": "code",
      "source": [
        "!pip install -q kaggle\n",
        "!mkdir -p ~/.kaggle\n",
        "!cp kaggle.json ~/.kaggle/\n",
        "!chmod 600 ~/.kaggle/kaggle.json"
      ],
      "execution_count": 0,
      "outputs": []
    },
    {
      "metadata": {
        "id": "fKCU6GSm2VEp",
        "colab_type": "code",
        "colab": {}
      },
      "cell_type": "code",
      "source": [
        "!kaggle datasets download -d alxmamaev/flowers-recognition\n",
        "!unzip flowers-recognition.zip"
      ],
      "execution_count": 0,
      "outputs": []
    },
    {
      "metadata": {
        "id": "vlllX-aIpuQx",
        "colab_type": "code",
        "colab": {}
      },
      "cell_type": "code",
      "source": [
        "## GETTING DATA READY\n",
        "import os\n",
        "import cv2\n",
        "import numpy as np \n",
        "\n",
        "DATA = \"/content/flowers\"\n",
        "Categories = [\"daisy\",\"dandelion\",\"rose\",\"sunflower\",\"tulip\"]\n",
        "\n",
        "training_data = []\n",
        "img_size = 128\n",
        "for item in Categories:\n",
        "    path  = os.path.join(DATA,item)\n",
        "    class_num = Categories.index(item)\n",
        "    for img in os.listdir(path):\n",
        "        img_array = cv2.imread(os.path.join(path,img))\n",
        "        try:\n",
        "            new_array = cv2.resize(img_array,(img_size,img_size))\n",
        "        except Exception as e:\n",
        "            pass\n",
        "        training_data.append([new_array,class_num])\n",
        "\n",
        "import random\n",
        "random.shuffle(training_data)\n",
        "X = []\n",
        "y = []\n",
        "for img,label in training_data:\n",
        "    X.append(img)\n",
        "    y.append(label)\n",
        "    \n",
        "print(len(X))\n",
        "X_train = np.array(X).reshape(-1,img_size,img_size,3)\n",
        "print(X_train.shape)\n",
        "\n",
        "\n",
        "X_train = X_train/255.0\n",
        "y = np.array(y).reshape(-1,1)\n",
        "print(y.shape)\n",
        "from sklearn.preprocessing import OneHotEncoder\n",
        "encoder = OneHotEncoder(sparse=False)\n",
        "y_train_hot = encoder.fit_transform(y)\n",
        "print(y_train_hot.shape)\n",
        "print(y_train_hot[0:10])"
      ],
      "execution_count": 0,
      "outputs": []
    },
    {
      "metadata": {
        "id": "J-v9afCsmqCG",
        "colab_type": "code",
        "colab": {
          "base_uri": "https://localhost:8080/",
          "height": 34
        },
        "outputId": "3b6f9e15-6bfe-411b-e8f9-b8d9c3958b77"
      },
      "cell_type": "code",
      "source": [
        "from keras import layers\n",
        "from keras.layers import Input, Add,Dropout, Dense, Activation, ZeroPadding2D, BatchNormalization, Flatten, Conv2D, AveragePooling2D, MaxPooling2D, GlobalMaxPooling2D\n",
        "from keras.models import Model, load_model,Sequential\n",
        "from keras.initializers import glorot_uniform\n",
        "import scipy.misc\n",
        "from skimage.transform import resize\n",
        "import matplotlib.pyplot as plt\n",
        "%matplotlib inline\n",
        "import keras.backend as K\n",
        "K.set_image_data_format('channels_last')"
      ],
      "execution_count": 4,
      "outputs": [
        {
          "output_type": "stream",
          "text": [
            "Using TensorFlow backend.\n"
          ],
          "name": "stderr"
        }
      ]
    },
    {
      "metadata": {
        "id": "Z1rLKY9cm6uf",
        "colab_type": "code",
        "colab": {}
      },
      "cell_type": "code",
      "source": [
        "def identity_block(X, f, filters, stage, block):\n",
        "    \n",
        "    # defining name basis\n",
        "    conv_name_base = 'res' + str(stage) + block + '_branch'\n",
        "    bn_name_base = 'bn' + str(stage) + block + '_branch'\n",
        "    \n",
        "    F1, F2, F3 = filters\n",
        "    \n",
        "    \n",
        "    X_shortcut = X\n",
        "    \n",
        "    \n",
        "    X = Conv2D(filters = F1, kernel_size = (1, 1), strides = (1,1), padding = 'valid', name = conv_name_base + '2a', kernel_initializer = glorot_uniform(seed=0))(X)\n",
        "    X = BatchNormalization(axis = 3, name = bn_name_base + '2a')(X)\n",
        "    X = Activation('relu')(X)\n",
        "    \n",
        "    \n",
        "   \n",
        "    X = Conv2D(filters = F2, kernel_size = (f, f), strides = (1,1), padding = 'same', name = conv_name_base + '2b', kernel_initializer = glorot_uniform(seed=0))(X)\n",
        "    X = BatchNormalization(axis = 3, name = bn_name_base + '2b')(X)\n",
        "    X = Activation('relu')(X)\n",
        "\n",
        "    \n",
        "    X = Conv2D(filters = F3, kernel_size = (1,1), strides = (1,1), padding = 'valid', name = conv_name_base + '2c', kernel_initializer = glorot_uniform(seed=0))(X)\n",
        "    X = BatchNormalization(axis = 3, name = bn_name_base + '2c')(X)\n",
        "\n",
        " \n",
        "    X = Add()([X,X_shortcut])\n",
        "    X = Activation('relu')(X)\n",
        "    \n",
        "    \n",
        "    return X"
      ],
      "execution_count": 0,
      "outputs": []
    },
    {
      "metadata": {
        "id": "5FjOw2EgnbY-",
        "colab_type": "code",
        "colab": {}
      },
      "cell_type": "code",
      "source": [
        "def convolutional_block(X, f, filters, stage, block, s = 2):\n",
        "   \n",
        "    # defining name basis\n",
        "    conv_name_base = 'res' + str(stage) + block + '_branch'\n",
        "    bn_name_base = 'bn' + str(stage) + block + '_branch'\n",
        "    \n",
        "    # Filters\n",
        "    F1, F2, F3 = filters\n",
        "    \n",
        "    # For skip coonection\n",
        "    X_shortcut = X\n",
        "\n",
        "\n",
        "    \n",
        "    X = Conv2D(F1, (1, 1), strides = (s,s), padding = 'valid',name = conv_name_base + '2a', kernel_initializer = glorot_uniform(seed=0))(X)\n",
        "    X = BatchNormalization(axis = 3, name = bn_name_base + '2a')(X)\n",
        "    X = Activation('relu')(X)\n",
        "   \n",
        "\n",
        "    \n",
        "    X = Conv2D(F2, (f, f), strides = (1,1), padding='same',name = conv_name_base + '2b', kernel_initializer = glorot_uniform(seed=0))(X)\n",
        "    X = BatchNormalization(axis = 3, name = bn_name_base + '2b')(X)\n",
        "    X = Activation('relu')(X)\n",
        "\n",
        "    \n",
        "    X = Conv2D(F3, (1, 1), strides = (1,1),padding='valid', name = conv_name_base + '2c', kernel_initializer = glorot_uniform(seed=0))(X)\n",
        "    X =BatchNormalization(axis = 3, name = bn_name_base + '2c')(X)\n",
        "\n",
        "   \n",
        "    X_shortcut = Conv2D(F3, (1, 1), strides = (s,s),padding='valid', name = conv_name_base + '1', kernel_initializer = glorot_uniform(seed=0))(X_shortcut)\n",
        "    X_shortcut = BatchNormalization(axis = 3, name = bn_name_base + '1')(X_shortcut)\n",
        "\n",
        "    \n",
        "    X = Add()([X,X_shortcut])\n",
        "    X = Activation('relu')(X)\n",
        "    \n",
        "   \n",
        "    \n",
        "    return X"
      ],
      "execution_count": 0,
      "outputs": []
    },
    {
      "metadata": {
        "id": "Ozm-qT_bni1p",
        "colab_type": "code",
        "colab": {}
      },
      "cell_type": "code",
      "source": [
        "def ResNet50(input_shape , classes ):\n",
        "   \n",
        "    \n",
        "    X_input = Input(input_shape)\n",
        "\n",
        "    \n",
        "    # Zero-Padding\n",
        "    X = ZeroPadding2D((3, 3))(X_input)\n",
        "    \n",
        "    # Stage 1\n",
        "    X = Conv2D(64, (7, 7), strides = (2, 2), name = 'conv1', kernel_initializer = glorot_uniform(seed=0))(X)\n",
        "    X = BatchNormalization(axis = 3, name = 'bn_conv1')(X)\n",
        "    X = Activation('relu')(X)\n",
        "    X = MaxPooling2D((3, 3), strides=(2, 2))(X)\n",
        "\n",
        "    # Stage 2\n",
        "    X = convolutional_block(X, f = 3, filters = [64, 64, 256], stage = 2, block='a', s = 1)\n",
        "    X = identity_block(X, 3, [64, 64, 256], stage=2, block='b')\n",
        "    X = identity_block(X, 3, [64, 64, 256], stage=2, block='c')\n",
        "\n",
        "   \n",
        "\n",
        "    # Stage 3 \n",
        "    X = convolutional_block(X, f = 3, filters = [128, 128, 512], stage = 3, block='a', s = 2)\n",
        "    X = identity_block(X, 3, [128, 128, 512], stage=3, block='b')\n",
        "    X = identity_block(X, 3, [128, 128, 512], stage=3, block='c')\n",
        "    X = identity_block(X, 3, [128, 128, 512], stage=3, block='d')\n",
        "\n",
        "    # Stage 4 \n",
        "    X = convolutional_block(X, f = 3, filters = [256, 256, 1024], stage = 4, block='a', s = 2)\n",
        "    X = identity_block(X, 3, [256, 256, 1024], stage=4, block='b')\n",
        "    X = identity_block(X, 3, [256, 256, 1024], stage=4, block='c')\n",
        "    X = identity_block(X, 3, [256, 256, 1024], stage=4, block='d')\n",
        "    X = identity_block(X, 3, [256, 256, 1024], stage=4, block='e')\n",
        "    X = identity_block(X, 3, [256, 256, 1024], stage=4, block='f')\n",
        "\n",
        "    # Stage 5\n",
        "    X = convolutional_block(X, f = 3, filters = [512, 512, 2048], stage = 5, block='a', s = 2)\n",
        "    X = identity_block(X, 3, [512, 512, 2048], stage=5, block='b')\n",
        "    X = identity_block(X, 3, [512, 512, 2048], stage=5, block='c')\n",
        "\n",
        "    \n",
        "    X = MaxPooling2D(pool_size=(2, 2), name='max_poool')(X) \n",
        "\n",
        "    # output layer\n",
        "    ## Additional dense layer of size 64 \n",
        "    X = Flatten()(X)\n",
        "    X = BatchNormalization()(X)\n",
        "    X = Dense(64, activation='relu', name='fc' + str(64), kernel_initializer = glorot_uniform(seed=0))(X) \n",
        "    X = Dense(classes, activation='softmax', name='fc' + str(classes), kernel_initializer = glorot_uniform(seed=0))(X)\n",
        "    \n",
        "    \n",
        "    # Creating model\n",
        "    model = Model(inputs = X_input, outputs = X, name='ResNet50')\n",
        "\n",
        "    return model"
      ],
      "execution_count": 0,
      "outputs": []
    },
    {
      "metadata": {
        "id": "9Zbp1XJQnnBw",
        "colab_type": "code",
        "colab": {
          "base_uri": "https://localhost:8080/",
          "height": 411
        },
        "outputId": "390209ed-2f51-4d5d-cf54-a07c3f15cacb"
      },
      "cell_type": "code",
      "source": [
        "model = ResNet50(input_shape = (128, 128, 3), classes = 5)\n",
        "model.compile(optimizer='sgd', loss='categorical_crossentropy', metrics=['accuracy'])\n",
        "model.fit(X_train,y_train_hot,batch_size = 32,epochs=10,validation_split=0.2)"
      ],
      "execution_count": 39,
      "outputs": [
        {
          "output_type": "stream",
          "text": [
            "Train on 3460 samples, validate on 866 samples\n",
            "Epoch 1/10\n",
            "3460/3460 [==============================] - 178s 51ms/step - loss: 2.0222 - acc: 0.3142 - val_loss: 5.7714 - val_acc: 0.2263\n",
            "Epoch 2/10\n",
            "3460/3460 [==============================] - 45s 13ms/step - loss: 1.3924 - acc: 0.4523 - val_loss: 2.0191 - val_acc: 0.3949\n",
            "Epoch 3/10\n",
            "3460/3460 [==============================] - 45s 13ms/step - loss: 1.1598 - acc: 0.5324 - val_loss: 1.6937 - val_acc: 0.3903\n",
            "Epoch 4/10\n",
            "3460/3460 [==============================] - 45s 13ms/step - loss: 1.0272 - acc: 0.5902 - val_loss: 1.4009 - val_acc: 0.5393\n",
            "Epoch 5/10\n",
            "3460/3460 [==============================] - 44s 13ms/step - loss: 0.9162 - acc: 0.6329 - val_loss: 1.1661 - val_acc: 0.5693\n",
            "Epoch 6/10\n",
            "3460/3460 [==============================] - 45s 13ms/step - loss: 0.8110 - acc: 0.6864 - val_loss: 1.1010 - val_acc: 0.5485\n",
            "Epoch 7/10\n",
            "3460/3460 [==============================] - 45s 13ms/step - loss: 0.7332 - acc: 0.7171 - val_loss: 1.5845 - val_acc: 0.4781\n",
            "Epoch 8/10\n",
            "3460/3460 [==============================] - 45s 13ms/step - loss: 0.6783 - acc: 0.7355 - val_loss: 1.3519 - val_acc: 0.5254\n",
            "Epoch 9/10\n",
            "3460/3460 [==============================] - 45s 13ms/step - loss: 0.5708 - acc: 0.7815 - val_loss: 1.4089 - val_acc: 0.5381\n",
            "Epoch 10/10\n",
            "3460/3460 [==============================] - 45s 13ms/step - loss: 0.5253 - acc: 0.8006 - val_loss: 1.5257 - val_acc: 0.5069\n"
          ],
          "name": "stdout"
        },
        {
          "output_type": "execute_result",
          "data": {
            "text/plain": [
              "<keras.callbacks.History at 0x7f3f75e47e48>"
            ]
          },
          "metadata": {
            "tags": []
          },
          "execution_count": 39
        }
      ]
    },
    {
      "metadata": {
        "id": "FY9WqTejkAj0",
        "colab_type": "code",
        "colab": {
          "base_uri": "https://localhost:8080/",
          "height": 411
        },
        "outputId": "15ede53e-62dd-45ec-84c5-9a50ae5bbd80"
      },
      "cell_type": "code",
      "source": [
        "from keras.applications.resnet50 import ResNet50\n",
        "model_res50 = Sequential()\n",
        "\n",
        "model_res50.add( ResNet50(include_top=False, weights='imagenet', input_shape=(128,128,3),pooling='max'))\n",
        "model_res50.add(BatchNormalization())\n",
        "model_res50.add(Dense(128, activation='relu'))\n",
        "model_res50.add(BatchNormalization())\n",
        "model_res50.add(Dense(64, activation='relu'))\n",
        "model_res50.add(BatchNormalization())\n",
        "model_res50.add(Dense(len(Categories), activation='softmax'))\n",
        "\n",
        "model_res50.compile(optimizer='sgd', loss='categorical_crossentropy', metrics=['accuracy'])\n",
        "model_res50.fit(X_train,y_train_hot,batch_size = 32,epochs=10,validation_split=0.2)\n"
      ],
      "execution_count": 10,
      "outputs": [
        {
          "output_type": "stream",
          "text": [
            "Train on 3460 samples, validate on 866 samples\n",
            "Epoch 1/10\n",
            "3460/3460 [==============================] - 65s 19ms/step - loss: 0.7961 - acc: 0.7113 - val_loss: 0.5288 - val_acc: 0.7991\n",
            "Epoch 2/10\n",
            "3460/3460 [==============================] - 42s 12ms/step - loss: 0.2521 - acc: 0.9275 - val_loss: 7.0839 - val_acc: 0.3060\n",
            "Epoch 3/10\n",
            "3460/3460 [==============================] - 42s 12ms/step - loss: 0.3481 - acc: 0.8766 - val_loss: 0.8400 - val_acc: 0.7102\n",
            "Epoch 4/10\n",
            "3460/3460 [==============================] - 42s 12ms/step - loss: 0.1980 - acc: 0.9379 - val_loss: 0.4225 - val_acc: 0.8568\n",
            "Epoch 5/10\n",
            "3460/3460 [==============================] - 42s 12ms/step - loss: 0.0966 - acc: 0.9751 - val_loss: 1.5084 - val_acc: 0.4885\n",
            "Epoch 6/10\n",
            "3460/3460 [==============================] - 42s 12ms/step - loss: 0.2665 - acc: 0.9133 - val_loss: 1.4379 - val_acc: 0.6016\n",
            "Epoch 7/10\n",
            "3460/3460 [==============================] - 42s 12ms/step - loss: 0.1326 - acc: 0.9610 - val_loss: 0.4573 - val_acc: 0.8406\n",
            "Epoch 8/10\n",
            "3460/3460 [==============================] - 42s 12ms/step - loss: 0.0687 - acc: 0.9841 - val_loss: 0.3870 - val_acc: 0.8834\n",
            "Epoch 9/10\n",
            "3460/3460 [==============================] - 42s 12ms/step - loss: 0.0442 - acc: 0.9916 - val_loss: 0.3714 - val_acc: 0.8845\n",
            "Epoch 10/10\n",
            "3460/3460 [==============================] - 42s 12ms/step - loss: 0.0407 - acc: 0.9919 - val_loss: 1.0208 - val_acc: 0.6801\n"
          ],
          "name": "stdout"
        },
        {
          "output_type": "execute_result",
          "data": {
            "text/plain": [
              "<keras.callbacks.History at 0x7f3ffd0d2860>"
            ]
          },
          "metadata": {
            "tags": []
          },
          "execution_count": 10
        }
      ]
    },
    {
      "metadata": {
        "id": "GdjzC4SdpuD0",
        "colab_type": "code",
        "colab": {
          "base_uri": "https://localhost:8080/",
          "height": 411
        },
        "outputId": "e632c342-eba9-4715-9231-a0d9e5889346"
      },
      "cell_type": "code",
      "source": [
        "from keras.applications.inception_v3 import InceptionV3\n",
        "model_incp = Sequential()\n",
        "\n",
        "model_incp.add( InceptionV3(include_top=False, weights='imagenet', input_shape=(128,128,3),pooling='avg'))\n",
        "model_incp.add(BatchNormalization())\n",
        "model_incp.add(Dense(128, activation='relu'))\n",
        "model_incp.add(Dropout(0.3))\n",
        "model_incp.add(BatchNormalization())\n",
        "model_incp.add(Dense(64, activation='relu'))\n",
        "model_incp.add(Dense(len(Categories), activation='softmax'))\n",
        "\n",
        "model_incp.compile(optimizer='sgd', loss='categorical_crossentropy', metrics=['accuracy'])\n",
        "model_incp.fit(X_train,y_train_hot,batch_size = 32,epochs=10,validation_split=0.2)\n"
      ],
      "execution_count": 33,
      "outputs": [
        {
          "output_type": "stream",
          "text": [
            "Train on 3460 samples, validate on 866 samples\n",
            "Epoch 1/10\n",
            "3460/3460 [==============================] - 166s 48ms/step - loss: 1.2822 - acc: 0.5014 - val_loss: 1.1183 - val_acc: 0.6247\n",
            "Epoch 2/10\n",
            "3460/3460 [==============================] - 36s 10ms/step - loss: 0.7215 - acc: 0.7376 - val_loss: 4.2990 - val_acc: 0.3095\n",
            "Epoch 3/10\n",
            "3460/3460 [==============================] - 35s 10ms/step - loss: 0.6863 - acc: 0.7428 - val_loss: 0.9335 - val_acc: 0.6663\n",
            "Epoch 4/10\n",
            "3460/3460 [==============================] - 36s 10ms/step - loss: 0.4791 - acc: 0.8303 - val_loss: 0.8117 - val_acc: 0.7252\n",
            "Epoch 5/10\n",
            "3460/3460 [==============================] - 35s 10ms/step - loss: 0.3972 - acc: 0.8552 - val_loss: 2.2244 - val_acc: 0.5242\n",
            "Epoch 6/10\n",
            "3460/3460 [==============================] - 35s 10ms/step - loss: 0.3999 - acc: 0.8584 - val_loss: 1.4040 - val_acc: 0.6986\n",
            "Epoch 7/10\n",
            "3460/3460 [==============================] - 35s 10ms/step - loss: 0.3190 - acc: 0.8873 - val_loss: 1.6022 - val_acc: 0.6224\n",
            "Epoch 8/10\n",
            "3460/3460 [==============================] - 35s 10ms/step - loss: 0.3947 - acc: 0.8581 - val_loss: 0.5450 - val_acc: 0.7910\n",
            "Epoch 9/10\n",
            "3460/3460 [==============================] - 36s 10ms/step - loss: 0.2571 - acc: 0.9104 - val_loss: 1.3454 - val_acc: 0.6143\n",
            "Epoch 10/10\n",
            "3460/3460 [==============================] - 35s 10ms/step - loss: 0.2613 - acc: 0.9046 - val_loss: 0.5981 - val_acc: 0.7956\n"
          ],
          "name": "stdout"
        },
        {
          "output_type": "execute_result",
          "data": {
            "text/plain": [
              "<keras.callbacks.History at 0x7f3f7c28df98>"
            ]
          },
          "metadata": {
            "tags": []
          },
          "execution_count": 33
        }
      ]
    },
    {
      "metadata": {
        "id": "L1r0lMR_kAW5",
        "colab_type": "code",
        "colab": {}
      },
      "cell_type": "code",
      "source": [
        "## TO TEST ANY IMAGE\n",
        "\n",
        "PATH =\"image.jpg\"\n",
        "img = plt.imread(PATH)\n",
        "from skimage.transform import resize\n",
        "img =  resize(img,(128,128))\n",
        "plt.imshow(img)\n",
        "img = img.reshape(-1,128,128,3)\n",
        "print(model_res50.predict(img))"
      ],
      "execution_count": 0,
      "outputs": []
    },
    {
      "metadata": {
        "id": "YjnCPESapuBB",
        "colab_type": "code",
        "colab": {}
      },
      "cell_type": "code",
      "source": [
        ""
      ],
      "execution_count": 0,
      "outputs": []
    },
    {
      "metadata": {
        "id": "HpXndKXqpt-I",
        "colab_type": "code",
        "colab": {}
      },
      "cell_type": "code",
      "source": [
        ""
      ],
      "execution_count": 0,
      "outputs": []
    }
  ]
}